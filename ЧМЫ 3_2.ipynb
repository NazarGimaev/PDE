{
 "cells": [
  {
   "cell_type": "code",
   "execution_count": 31,
   "metadata": {},
   "outputs": [],
   "source": [
    "import numpy as np\n",
    "import math as ma\n",
    "N=4\n",
    "M=4\n",
    "hr=1/N\n",
    "hp=2*ma.pi/M\n",
    "r=np.zeros(N+1)\n",
    "p=np.zeros(M+1)\n",
    "for i in range (N+1):\n",
    "    r[i]=i*hr\n",
    "for i in range (M+1):\n",
    "    p[i]=i*hp\n",
    "hr_=np.zeros(N+1)\n",
    "hp_=np.zeros(M+1)\n",
    "for i in range (N+1):\n",
    "    if i==0:\n",
    "        hr_[i]=0.5*hr\n",
    "    elif i==N:\n",
    "        hr_[i]=0.5*hr\n",
    "    else:\n",
    "        hr_[i]=hr\n",
    "for i in range (M+1):\n",
    "    hp_[i]=hp\n",
    "r_=np.zeros(N+1)\n",
    "for i in range (1,N+1):\n",
    "    r_[i]=0.5*(r[i]-r[i-1])\n",
    "ro=np.zeros(N+1)\n",
    "for i in range (N+1):\n",
    "    if i==0:\n",
    "        ro[i]=1/4*hr\n",
    "    elif i==N:\n",
    "        ro[i]=1-1/4*hr\n",
    "    else:\n",
    "        ro[i]=r[i]\n",
    "#собственные функции Lphi:\n",
    "def lambd(q):\n",
    "    return 4/(hp*hp)*ma.sin(q*hp/2)*ma.sin(q*hp/2)\n",
    "Lr=np.zeros(())   \n"
   ]
  },
  {
   "cell_type": "code",
   "execution_count": 29,
   "metadata": {},
   "outputs": [
    {
     "name": "stdout",
     "output_type": "stream",
     "text": [
      "[0.   0.25 0.5  0.75 1.  ]\n"
     ]
    }
   ],
   "source": [
    "print(r)"
   ]
  },
  {
   "cell_type": "code",
   "execution_count": null,
   "metadata": {},
   "outputs": [],
   "source": []
  },
  {
   "cell_type": "code",
   "execution_count": null,
   "metadata": {},
   "outputs": [],
   "source": []
  }
 ],
 "metadata": {
  "kernelspec": {
   "display_name": "Python 3",
   "language": "python",
   "name": "python3"
  },
  "language_info": {
   "codemirror_mode": {
    "name": "ipython",
    "version": 3
   },
   "file_extension": ".py",
   "mimetype": "text/x-python",
   "name": "python",
   "nbconvert_exporter": "python",
   "pygments_lexer": "ipython3",
   "version": "3.8.5"
  }
 },
 "nbformat": 4,
 "nbformat_minor": 4
}
